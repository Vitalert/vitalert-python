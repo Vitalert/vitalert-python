{
 "cells": [
  {
   "cell_type": "code",
   "execution_count": 1,
   "metadata": {
    "collapsed": true
   },
   "outputs": [
    {
     "name": "stdout",
     "output_type": "stream",
     "text": [
      "Getting cookies from https://www.vinted.fr\n",
      "Cookies set!\n"
     ]
    }
   ],
   "source": [
    "import time\n",
    "\n",
    "from vitalert import Vitalert\n",
    "from pyVinted import Vinted\n",
    "vinted = Vinted()\n",
    "vitalert = Vitalert()"
   ]
  },
  {
   "cell_type": "code",
   "execution_count": 2,
   "outputs": [],
   "source": [
    "def getUsers():\n",
    "    '''retrieve all users from vitalert'''\n",
    "    pro_users = vitalert.users.getProUsers()\n",
    "    premium_users = vitalert.users.getPremiumUsers()\n",
    "    basic_users = vitalert.users.getBasicUsers()\n",
    "\n",
    "    return pro_users + premium_users + basic_users"
   ],
   "metadata": {
    "collapsed": false,
    "pycharm": {
     "name": "#%%\n"
    }
   }
  },
  {
   "cell_type": "code",
   "execution_count": 3,
   "outputs": [],
   "source": [
    "def handle_alert(alert, user):\n",
    "\n",
    "    # retrive last items from Vinted for the specific alert url\n",
    "    items = vinted.items.search(alert.url,20)\n",
    "\n",
    "    newItems = []\n",
    "    newIds = []\n",
    "    changed = False\n",
    "\n",
    "    if alert.lastItems != [] and alert.lastItems != None:\n",
    "        newIds = alert.lastItems\n",
    "\n",
    "        for item in items:\n",
    "            if item.id not in alert.lastItems and item.isNewItem():\n",
    "                print(item.url)\n",
    "                newItems.append(item)\n",
    "                newIds.insert(0, str(item.id))\n",
    "                newIds.pop()\n",
    "                changed = True\n",
    "\n",
    "    else:\n",
    "        changed = True\n",
    "\n",
    "        for item in items:\n",
    "            newIds.append(item.id)\n",
    "\n",
    "    if changed:\n",
    "\n",
    "        alert.update_last_items(newIds)\n",
    "\n",
    "        if user.useTelegram :\n",
    "            vitalert.notifier.sendTelegram(newItems, user)\n",
    "\n",
    "        elif not(user.useTelegram) :\n",
    "            print(\"DISCOOORD\")\n",
    "            vitalert.notifier.sendDiscord(newItems, user)\n"
   ],
   "metadata": {
    "collapsed": false,
    "pycharm": {
     "name": "#%%\n"
    }
   }
  },
  {
   "cell_type": "code",
   "execution_count": 3,
   "outputs": [],
   "source": [],
   "metadata": {
    "collapsed": false,
    "pycharm": {
     "name": "#%%\n"
    }
   }
  },
  {
   "cell_type": "code",
   "execution_count": null,
   "outputs": [
    {
     "name": "stdout",
     "output_type": "stream",
     "text": [
      "[<vitalert.users.user.User object at 0x106677f70>, <vitalert.users.user.User object at 0x106677760>, <vitalert.users.user.User object at 0x105a86250>]\n",
      "DISCOOORD\n",
      "DISCOOORD\n",
      "DISCOOORD\n",
      "https://www.vinted.fr/men/clothes/jumpers-and-sweaters/zip-through-hoodies/1638859309-gilet-nike\n",
      "[<vitalert.users.user.User object at 0x106733f70>, <vitalert.users.user.User object at 0x105a32460>, <vitalert.users.user.User object at 0x1066e42e0>]\n",
      "https://www.vinted.fr/men/clothes/jumpers-and-sweaters-1811/1638859495-pullover-polo-ralph-lauren\n",
      "DISCOOORD\n",
      "https://www.vinted.fr/men/clothes/jumpers-and-sweaters-1811/1638859495-pullover-polo-ralph-lauren\n",
      "[<vitalert.users.user.User object at 0x106677f70>, <vitalert.users.user.User object at 0x106733a90>, <vitalert.users.user.User object at 0x106733b20>]\n",
      "https://www.vinted.fr/men/clothes/tops-and-t-shirts/t-shirts/print-t-shirts/1638860416-t-shirt-habille-nike\n",
      "https://www.vinted.fr/women/clothes/activewear/trousers/1638859291-legging-nike-neuf-s\n",
      "DISCOOORD\n",
      "[<vitalert.users.user.User object at 0x105a32f70>, <vitalert.users.user.User object at 0x106733a00>, <vitalert.users.user.User object at 0x105a86250>]\n",
      "[<vitalert.users.user.User object at 0x106745070>, <vitalert.users.user.User object at 0x106745220>, <vitalert.users.user.User object at 0x10674ef40>]\n",
      "[<vitalert.users.user.User object at 0x105a48700>, <vitalert.users.user.User object at 0x106745f40>, <vitalert.users.user.User object at 0x1066e4a60>]\n",
      "[<vitalert.users.user.User object at 0x105a488b0>, <vitalert.users.user.User object at 0x106677a30>, <vitalert.users.user.User object at 0x1067452b0>]\n",
      "[<vitalert.users.user.User object at 0x106733f70>, <vitalert.users.user.User object at 0x105a32460>, <vitalert.users.user.User object at 0x106745cd0>]\n",
      "[<vitalert.users.user.User object at 0x1067456d0>, <vitalert.users.user.User object at 0x10539a430>, <vitalert.users.user.User object at 0x106677c10>]\n",
      "https://www.vinted.fr/women/clothes/activewear/tops-and-t-shirts/1638863338-tee-short-manches-longues-nike-pro\n",
      "DISCOOORD\n",
      "[<vitalert.users.user.User object at 0x105a483a0>, <vitalert.users.user.User object at 0x10674e460>, <vitalert.users.user.User object at 0x106745760>]\n",
      "[<vitalert.users.user.User object at 0x105a86250>, <vitalert.users.user.User object at 0x106733af0>, <vitalert.users.user.User object at 0x106733b50>]\n",
      "[<vitalert.users.user.User object at 0x1066f7f10>, <vitalert.users.user.User object at 0x106733ac0>, <vitalert.users.user.User object at 0x10674eb20>]\n",
      "[<vitalert.users.user.User object at 0x105a483a0>, <vitalert.users.user.User object at 0x106733a00>, <vitalert.users.user.User object at 0x106745ca0>]\n",
      "[<vitalert.users.user.User object at 0x1066e4a60>, <vitalert.users.user.User object at 0x106745160>, <vitalert.users.user.User object at 0x106677a60>]\n",
      "[<vitalert.users.user.User object at 0x106745ca0>, <vitalert.users.user.User object at 0x1067458b0>, <vitalert.users.user.User object at 0x10674ebe0>]\n",
      "[<vitalert.users.user.User object at 0x1066f7f10>, <vitalert.users.user.User object at 0x106745250>, <vitalert.users.user.User object at 0x10674ea60>]\n",
      "[<vitalert.users.user.User object at 0x105a48700>, <vitalert.users.user.User object at 0x106733250>, <vitalert.users.user.User object at 0x10674e3d0>]\n",
      "[<vitalert.users.user.User object at 0x106733af0>, <vitalert.users.user.User object at 0x105a488b0>, <vitalert.users.user.User object at 0x106677f70>]\n",
      "[<vitalert.users.user.User object at 0x106677c10>, <vitalert.users.user.User object at 0x105a483a0>, <vitalert.users.user.User object at 0x106733a90>]\n",
      "[<vitalert.users.user.User object at 0x105a48a00>, <vitalert.users.user.User object at 0x106745070>, <vitalert.users.user.User object at 0x106745910>]\n",
      "https://www.vinted.fr/women/clothes/jumpers-and-sweaters/hoodies-and-sweatshirts/1638864210-camisola-nike\n",
      "DISCOOORD\n",
      "[<vitalert.users.user.User object at 0x106677f70>, <vitalert.users.user.User object at 0x106733a00>, <vitalert.users.user.User object at 0x10674ef10>]\n",
      "https://www.vinted.fr/men/clothes/jumpers-and-sweaters/zip-through-hoodies/1638865254-sudadera-nike\n",
      "DISCOOORD\n",
      "[<vitalert.users.user.User object at 0x1066776a0>, <vitalert.users.user.User object at 0x106677a30>, <vitalert.users.user.User object at 0x106745910>]\n",
      "https://www.vinted.fr/men/clothes/jumpers-and-sweaters/zip-through-hoodies/1638865254-sudadera-nike\n",
      "DISCOOORD\n",
      "[<vitalert.users.user.User object at 0x106745d00>, <vitalert.users.user.User object at 0x106677c10>, <vitalert.users.user.User object at 0x10539a430>]\n",
      "https://www.vinted.fr/men/clothes/jumpers-and-sweaters/zip-through-hoodies/1638865254-sudadera-nike\n",
      "DISCOOORD\n",
      "https://www.vinted.fr/men/clothes/activewear/tops-and-t-shirts/1638865055-maillot-inter-de-milan\n",
      "DISCOOORD\n",
      "[<vitalert.users.user.User object at 0x105a32f70>, <vitalert.users.user.User object at 0x105a488b0>, <vitalert.users.user.User object at 0x10572c850>]\n",
      "[<vitalert.users.user.User object at 0x106745100>, <vitalert.users.user.User object at 0x106677a30>, <vitalert.users.user.User object at 0x106745cd0>]\n",
      "https://www.vinted.fr/men/clothes/activewear/tops-and-t-shirts/1638868129-camiseta-nike-running\n",
      "DISCOOORD\n",
      "[<vitalert.users.user.User object at 0x105ab7b80>, <vitalert.users.user.User object at 0x1067337c0>, <vitalert.users.user.User object at 0x1066f7f10>]\n",
      "[<vitalert.users.user.User object at 0x105a483a0>, <vitalert.users.user.User object at 0x10674e730>, <vitalert.users.user.User object at 0x106745280>]\n",
      "[<vitalert.users.user.User object at 0x1066e4a60>, <vitalert.users.user.User object at 0x1066e42e0>, <vitalert.users.user.User object at 0x10674e370>]\n",
      "[<vitalert.users.user.User object at 0x106654e20>, <vitalert.users.user.User object at 0x105764400>, <vitalert.users.user.User object at 0x1052fad00>]\n",
      "[<vitalert.users.user.User object at 0x1066f7f10>, <vitalert.users.user.User object at 0x1066e4a60>, <vitalert.users.user.User object at 0x106733880>]\n",
      "[<vitalert.users.user.User object at 0x106733a30>, <vitalert.users.user.User object at 0x10574e700>, <vitalert.users.user.User object at 0x105a32730>]\n",
      "[<vitalert.users.user.User object at 0x10574ed60>, <vitalert.users.user.User object at 0x106745f10>, <vitalert.users.user.User object at 0x106677e80>]\n",
      "[<vitalert.users.user.User object at 0x106745c10>, <vitalert.users.user.User object at 0x105a32460>, <vitalert.users.user.User object at 0x105a48700>]\n",
      "[<vitalert.users.user.User object at 0x106654e20>, <vitalert.users.user.User object at 0x106677f10>, <vitalert.users.user.User object at 0x10674ea60>]\n",
      "[<vitalert.users.user.User object at 0x1066f7f10>, <vitalert.users.user.User object at 0x10539a1c0>, <vitalert.users.user.User object at 0x10674eaf0>]\n",
      "[<vitalert.users.user.User object at 0x1056f7280>, <vitalert.users.user.User object at 0x105764400>, <vitalert.users.user.User object at 0x106733700>]\n",
      "[<vitalert.users.user.User object at 0x105a48a00>, <vitalert.users.user.User object at 0x105a48700>, <vitalert.users.user.User object at 0x105a488b0>]\n",
      "[<vitalert.users.user.User object at 0x106677f70>, <vitalert.users.user.User object at 0x106745ca0>, <vitalert.users.user.User object at 0x1067339d0>]\n",
      "[<vitalert.users.user.User object at 0x1066776a0>, <vitalert.users.user.User object at 0x105a488b0>, <vitalert.users.user.User object at 0x10674ee80>]\n",
      "[<vitalert.users.user.User object at 0x105764400>, <vitalert.users.user.User object at 0x1066e4d60>, <vitalert.users.user.User object at 0x10674ea30>]\n",
      "[<vitalert.users.user.User object at 0x105a32940>, <vitalert.users.user.User object at 0x105a48700>, <vitalert.users.user.User object at 0x10674e3a0>]\n",
      "https://www.vinted.fr/women/clothes/activewear/tops-and-t-shirts/1638870661-sport-t-shirt-nike-s\n",
      "https://www.vinted.fr/men/clothes/tops-and-t-shirts/t-shirts/striped-t-shirts/1638870463-tee-shirts-nike\n",
      "DISCOOORD\n",
      "[<vitalert.users.user.User object at 0x1056f7280>, <vitalert.users.user.User object at 0x106745160>, <vitalert.users.user.User object at 0x105a32730>]\n",
      "[<vitalert.users.user.User object at 0x1052fad00>, <vitalert.users.user.User object at 0x106733970>, <vitalert.users.user.User object at 0x1066e4c10>]\n",
      "[<vitalert.users.user.User object at 0x1066777f0>, <vitalert.users.user.User object at 0x106733490>, <vitalert.users.user.User object at 0x1066f7f10>]\n",
      "[<vitalert.users.user.User object at 0x1052fad00>, <vitalert.users.user.User object at 0x106677f70>, <vitalert.users.user.User object at 0x106745f10>]\n",
      "[<vitalert.users.user.User object at 0x105ab7b80>, <vitalert.users.user.User object at 0x10539a070>, <vitalert.users.user.User object at 0x10674e610>]\n",
      "[<vitalert.users.user.User object at 0x105a2aeb0>, <vitalert.users.user.User object at 0x105a48700>, <vitalert.users.user.User object at 0x10574ed60>]\n",
      "[<vitalert.users.user.User object at 0x105764400>, <vitalert.users.user.User object at 0x10674edc0>, <vitalert.users.user.User object at 0x106745ac0>]\n",
      "[<vitalert.users.user.User object at 0x105a32940>, <vitalert.users.user.User object at 0x105a2aeb0>, <vitalert.users.user.User object at 0x10574e730>]\n",
      "[<vitalert.users.user.User object at 0x106705940>, <vitalert.users.user.User object at 0x10674e550>, <vitalert.users.user.User object at 0x105a86250>]\n",
      "[<vitalert.users.user.User object at 0x105764400>, <vitalert.users.user.User object at 0x1066e4d60>, <vitalert.users.user.User object at 0x105a2aeb0>]\n",
      "[<vitalert.users.user.User object at 0x105a48700>, <vitalert.users.user.User object at 0x10574ed60>, <vitalert.users.user.User object at 0x105ab7b80>]\n",
      "[<vitalert.users.user.User object at 0x105a32f70>, <vitalert.users.user.User object at 0x106745580>, <vitalert.users.user.User object at 0x10674edf0>]\n",
      "[<vitalert.users.user.User object at 0x106654e20>, <vitalert.users.user.User object at 0x106733550>, <vitalert.users.user.User object at 0x106733a00>]\n",
      "[<vitalert.users.user.User object at 0x1056f7280>, <vitalert.users.user.User object at 0x1067458b0>, <vitalert.users.user.User object at 0x106733820>]\n",
      "[<vitalert.users.user.User object at 0x10539a1c0>, <vitalert.users.user.User object at 0x1066e42e0>, <vitalert.users.user.User object at 0x105a86250>]\n",
      "[<vitalert.users.user.User object at 0x1066e4d30>, <vitalert.users.user.User object at 0x106733940>, <vitalert.users.user.User object at 0x1066e4d60>]\n",
      "[<vitalert.users.user.User object at 0x106705940>, <vitalert.users.user.User object at 0x105a32730>, <vitalert.users.user.User object at 0x1066c84f0>]\n",
      "[<vitalert.users.user.User object at 0x1066e4bb0>, <vitalert.users.user.User object at 0x105a48700>, <vitalert.users.user.User object at 0x1067458b0>]\n",
      "[<vitalert.users.user.User object at 0x10574e700>, <vitalert.users.user.User object at 0x10674ec40>, <vitalert.users.user.User object at 0x10674e6a0>]\n",
      "[<vitalert.users.user.User object at 0x106677e80>, <vitalert.users.user.User object at 0x105a48700>, <vitalert.users.user.User object at 0x106733ac0>]\n",
      "https://www.vinted.fr/men/clothes/activewear/tracksuits/1638874310-haut-de-chelsea\n",
      "DISCOOORD\n",
      "[<vitalert.users.user.User object at 0x1052fad00>, <vitalert.users.user.User object at 0x105a2aeb0>, <vitalert.users.user.User object at 0x1056f7280>]\n",
      "https://www.vinted.fr/women/clothes/activewear/tops-and-t-shirts/1638874121-sport-bh-sport-top-nike\n",
      "https://www.vinted.fr/men/clothes/trousers/joggers/1638872602-jogging-nike\n",
      "DISCOOORD\n",
      "[<vitalert.users.user.User object at 0x1066c84f0>, <vitalert.users.user.User object at 0x106733bb0>, <vitalert.users.user.User object at 0x106733550>]\n",
      "https://www.vinted.fr/men/clothes/tops-and-t-shirts/t-shirts/print-t-shirts/1638874667-camiseta-nike\n",
      "DISCOOORD\n",
      "[<vitalert.users.user.User object at 0x105a32f70>, <vitalert.users.user.User object at 0x105a48a00>, <vitalert.users.user.User object at 0x106654e20>]\n",
      "[<vitalert.users.user.User object at 0x106733bb0>, <vitalert.users.user.User object at 0x1066e4a60>, <vitalert.users.user.User object at 0x105a2aeb0>]\n",
      "[<vitalert.users.user.User object at 0x10539a1c0>, <vitalert.users.user.User object at 0x105a32730>, <vitalert.users.user.User object at 0x106733940>]\n",
      "https://www.vinted.fr/men/clothes/activewear/tops-and-t-shirts/1638874494-tee-shirt-nike-de-sport\n",
      "DISCOOORD\n",
      "[<vitalert.users.user.User object at 0x106677d90>, <vitalert.users.user.User object at 0x105a483a0>, <vitalert.users.user.User object at 0x10674edf0>]\n",
      "[<vitalert.users.user.User object at 0x1066e4d60>, <vitalert.users.user.User object at 0x105a48a00>, <vitalert.users.user.User object at 0x106745340>]\n",
      "[<vitalert.users.user.User object at 0x10602a490>, <vitalert.users.user.User object at 0x1066cd520>, <vitalert.users.user.User object at 0x106733460>]\n",
      "https://www.vinted.fr/men/clothes/jumpers-and-sweaters/crew-neck-jumpers/1638874510-maglione-ralph-lauren\n",
      "https://www.vinted.fr/men/clothes/jumpers-and-sweaters/other/1638873328-polo-ralph-lauren\n",
      "[<vitalert.users.user.User object at 0x1066f7f10>, <vitalert.users.user.User object at 0x1066776a0>, <vitalert.users.user.User object at 0x10674e610>]\n",
      "[<vitalert.users.user.User object at 0x10574ed60>, <vitalert.users.user.User object at 0x10602a490>, <vitalert.users.user.User object at 0x10674e8b0>]\n",
      "[<vitalert.users.user.User object at 0x105a86250>, <vitalert.users.user.User object at 0x106677f70>, <vitalert.users.user.User object at 0x106733fd0>]\n",
      "[<vitalert.users.user.User object at 0x105ab7b80>, <vitalert.users.user.User object at 0x10574e700>, <vitalert.users.user.User object at 0x106733a00>]\n",
      "[<vitalert.users.user.User object at 0x105a48700>, <vitalert.users.user.User object at 0x105a32730>, <vitalert.users.user.User object at 0x1056f7280>]\n",
      "[<vitalert.users.user.User object at 0x105ab7b80>, <vitalert.users.user.User object at 0x106733af0>, <vitalert.users.user.User object at 0x106733460>]\n",
      "[<vitalert.users.user.User object at 0x105a48700>, <vitalert.users.user.User object at 0x105a2aeb0>, <vitalert.users.user.User object at 0x105a48a00>]\n",
      "[<vitalert.users.user.User object at 0x1066c84f0>, <vitalert.users.user.User object at 0x105a32730>, <vitalert.users.user.User object at 0x106733490>]\n",
      "[<vitalert.users.user.User object at 0x10572c850>, <vitalert.users.user.User object at 0x106677f70>, <vitalert.users.user.User object at 0x10539a430>]\n",
      "[<vitalert.users.user.User object at 0x105a32730>, <vitalert.users.user.User object at 0x1066e4d30>, <vitalert.users.user.User object at 0x1066cd520>]\n",
      "[<vitalert.users.user.User object at 0x105a2aeb0>, <vitalert.users.user.User object at 0x105ab7b80>, <vitalert.users.user.User object at 0x10674e6a0>]\n",
      "[<vitalert.users.user.User object at 0x10674e9d0>, <vitalert.users.user.User object at 0x10539a430>, <vitalert.users.user.User object at 0x105a48a00>]\n",
      "[<vitalert.users.user.User object at 0x106705940>, <vitalert.users.user.User object at 0x1066e4a60>, <vitalert.users.user.User object at 0x106677c70>]\n",
      "https://www.vinted.fr/men/clothes/activewear/tops-and-t-shirts/1638876181-tee-shirt-nike-de-sport\n",
      "DISCOOORD\n",
      "[<vitalert.users.user.User object at 0x1052fad00>, <vitalert.users.user.User object at 0x106677160>, <vitalert.users.user.User object at 0x106733550>]\n",
      "[<vitalert.users.user.User object at 0x106745580>, <vitalert.users.user.User object at 0x1067452e0>, <vitalert.users.user.User object at 0x1067338b0>]\n",
      "[<vitalert.users.user.User object at 0x106677160>, <vitalert.users.user.User object at 0x1066776a0>, <vitalert.users.user.User object at 0x105a483a0>]\n",
      "[<vitalert.users.user.User object at 0x1066c84f0>, <vitalert.users.user.User object at 0x1066f7f10>, <vitalert.users.user.User object at 0x106733910>]\n",
      "[<vitalert.users.user.User object at 0x10539a430>, <vitalert.users.user.User object at 0x1067451c0>, <vitalert.users.user.User object at 0x106745d00>]\n",
      "[<vitalert.users.user.User object at 0x105764400>, <vitalert.users.user.User object at 0x106733820>, <vitalert.users.user.User object at 0x1067451f0>]\n",
      "[<vitalert.users.user.User object at 0x105a86250>, <vitalert.users.user.User object at 0x1067459d0>, <vitalert.users.user.User object at 0x106733490>]\n",
      "https://www.vinted.fr/men/clothes/activewear/tops-and-t-shirts/1638880570-t-shirt-nike-pour-homme\n",
      "https://www.vinted.fr/women/clothes/coats-and-jackets/raincoats/1638879843-par-vent-nike\n",
      "DISCOOORD\n",
      "[<vitalert.users.user.User object at 0x105a2aeb0>, <vitalert.users.user.User object at 0x106654e20>, <vitalert.users.user.User object at 0x105ab7b80>]\n",
      "[<vitalert.users.user.User object at 0x1066e4d60>, <vitalert.users.user.User object at 0x1052fad00>, <vitalert.users.user.User object at 0x106677c70>]\n",
      "[<vitalert.users.user.User object at 0x106654e20>, <vitalert.users.user.User object at 0x106745f40>, <vitalert.users.user.User object at 0x1066cd520>]\n",
      "[<vitalert.users.user.User object at 0x106745f10>, <vitalert.users.user.User object at 0x1066e4d60>, <vitalert.users.user.User object at 0x10674e790>]\n",
      "[<vitalert.users.user.User object at 0x1056f7280>, <vitalert.users.user.User object at 0x106677f70>, <vitalert.users.user.User object at 0x10674e370>]\n",
      "[<vitalert.users.user.User object at 0x105764400>, <vitalert.users.user.User object at 0x10602a490>, <vitalert.users.user.User object at 0x10572c850>]\n",
      "[<vitalert.users.user.User object at 0x105ab7b80>, <vitalert.users.user.User object at 0x10674ea60>, <vitalert.users.user.User object at 0x106733250>]\n",
      "https://www.vinted.fr/men/clothes/activewear/tracksuits/1638880389-jogging-noir-nike\n",
      "DISCOOORD\n",
      "[<vitalert.users.user.User object at 0x106654e20>, <vitalert.users.user.User object at 0x106733a00>, <vitalert.users.user.User object at 0x1056f7280>]\n",
      "[<vitalert.users.user.User object at 0x1052fad00>, <vitalert.users.user.User object at 0x10539a1c0>, <vitalert.users.user.User object at 0x105a86250>]\n",
      "[<vitalert.users.user.User object at 0x10602a490>, <vitalert.users.user.User object at 0x106677e80>, <vitalert.users.user.User object at 0x105a2aeb0>]\n",
      "[<vitalert.users.user.User object at 0x105a48a00>, <vitalert.users.user.User object at 0x1066e4d30>, <vitalert.users.user.User object at 0x106733bb0>]\n",
      "https://www.vinted.fr/women/clothes/trousers-and-leggings/leggings/1638881645-leggings-nike-novas\n",
      "DISCOOORD\n",
      "[<vitalert.users.user.User object at 0x1056f7280>, <vitalert.users.user.User object at 0x106677f10>, <vitalert.users.user.User object at 0x106745100>]\n",
      "https://www.vinted.fr/men/clothes/coats-and-jackets/wool-coats/1638882862-nike-heren-jas\n",
      "DISCOOORD\n",
      "[<vitalert.users.user.User object at 0x1067339a0>, <vitalert.users.user.User object at 0x10602a490>, <vitalert.users.user.User object at 0x106733550>]\n",
      "[<vitalert.users.user.User object at 0x105ab7b80>, <vitalert.users.user.User object at 0x105a2aeb0>, <vitalert.users.user.User object at 0x106677f10>]\n",
      "[<vitalert.users.user.User object at 0x106705940>, <vitalert.users.user.User object at 0x10574e700>, <vitalert.users.user.User object at 0x106733490>]\n",
      "https://www.vinted.fr/men/clothes/activewear/tops-and-t-shirts/1638880878-maglietta-originale-barcellona\n",
      "DISCOOORD\n",
      "[<vitalert.users.user.User object at 0x10574e730>, <vitalert.users.user.User object at 0x1066cd520>, <vitalert.users.user.User object at 0x105a2aeb0>]\n",
      "https://www.vinted.fr/men/clothes/jumpers-and-sweaters/hoodies-and-sweatshirts/1638881046-sweat-carhartt-m\n",
      "DISCOOORD\n",
      "https://www.vinted.fr/men/clothes/jumpers-and-sweaters/hoodies-and-sweatshirts/1638881046-sweat-carhartt-m\n",
      "[<vitalert.users.user.User object at 0x105a32730>, <vitalert.users.user.User object at 0x1066e42e0>, <vitalert.users.user.User object at 0x106733af0>]\n",
      "[<vitalert.users.user.User object at 0x1066e4a60>, <vitalert.users.user.User object at 0x10675dd30>, <vitalert.users.user.User object at 0x10572c850>]\n",
      "[<vitalert.users.user.User object at 0x105a483a0>, <vitalert.users.user.User object at 0x106733490>, <vitalert.users.user.User object at 0x106654e20>]\n",
      "[<vitalert.users.user.User object at 0x106733a00>, <vitalert.users.user.User object at 0x106733460>, <vitalert.users.user.User object at 0x105a32940>]\n",
      "[<vitalert.users.user.User object at 0x1052fad00>, <vitalert.users.user.User object at 0x106745640>, <vitalert.users.user.User object at 0x1066f7f10>]\n",
      "[<vitalert.users.user.User object at 0x106677f70>, <vitalert.users.user.User object at 0x1067452b0>, <vitalert.users.user.User object at 0x10674ebe0>]\n",
      "[<vitalert.users.user.User object at 0x105ab7b80>, <vitalert.users.user.User object at 0x1066cd520>, <vitalert.users.user.User object at 0x106733bb0>]\n",
      "[<vitalert.users.user.User object at 0x106745070>, <vitalert.users.user.User object at 0x1067338e0>, <vitalert.users.user.User object at 0x1066776a0>]\n",
      "[<vitalert.users.user.User object at 0x1066e4d60>, <vitalert.users.user.User object at 0x1066f7f10>, <vitalert.users.user.User object at 0x106745cd0>]\n",
      "https://www.vinted.fr/men/clothes/activewear/tops-and-t-shirts/1638884353-t-shirt-nike\n",
      "DISCOOORD\n",
      "[<vitalert.users.user.User object at 0x10574e700>, <vitalert.users.user.User object at 0x106654e20>, <vitalert.users.user.User object at 0x1067458b0>]\n",
      "[<vitalert.users.user.User object at 0x10574ed60>, <vitalert.users.user.User object at 0x106745580>, <vitalert.users.user.User object at 0x1067337c0>]\n",
      "[<vitalert.users.user.User object at 0x106677f70>, <vitalert.users.user.User object at 0x106677c10>, <vitalert.users.user.User object at 0x1067459d0>]\n",
      "[<vitalert.users.user.User object at 0x10574ed60>, <vitalert.users.user.User object at 0x105a2aeb0>, <vitalert.users.user.User object at 0x1067459a0>]\n",
      "[<vitalert.users.user.User object at 0x106677c70>, <vitalert.users.user.User object at 0x105a483a0>, <vitalert.users.user.User object at 0x106745f40>]\n"
     ]
    }
   ],
   "source": [
    "\n",
    "\n",
    "while True:\n",
    "    users = getUsers()\n",
    "    print(users)\n",
    "    for user in users:\n",
    "        user.getAlerts()\n",
    "        id = user.userId\n",
    "        for alert in user.alerts.alerts:\n",
    "            handle_alert(alert, user)\n",
    "    time.sleep(1)"
   ],
   "metadata": {
    "collapsed": false,
    "pycharm": {
     "name": "#%%\n",
     "is_executing": true
    }
   }
  },
  {
   "cell_type": "code",
   "execution_count": null,
   "outputs": [],
   "source": [
    "user = users[0]"
   ],
   "metadata": {
    "collapsed": false,
    "pycharm": {
     "name": "#%%\n"
    }
   }
  },
  {
   "cell_type": "code",
   "execution_count": null,
   "outputs": [],
   "source": [
    "user.getAlerts()\n"
   ],
   "metadata": {
    "collapsed": false,
    "pycharm": {
     "name": "#%%\n"
    }
   }
  },
  {
   "cell_type": "code",
   "execution_count": null,
   "outputs": [],
   "source": [
    "users = getUsers()"
   ],
   "metadata": {
    "collapsed": false,
    "pycharm": {
     "name": "#%%\n"
    }
   }
  },
  {
   "cell_type": "code",
   "execution_count": null,
   "outputs": [],
   "source": [
    "users"
   ],
   "metadata": {
    "collapsed": false,
    "pycharm": {
     "name": "#%%\n"
    }
   }
  },
  {
   "cell_type": "markdown",
   "source": [],
   "metadata": {
    "collapsed": false
   }
  },
  {
   "cell_type": "code",
   "execution_count": null,
   "outputs": [],
   "source": [],
   "metadata": {
    "collapsed": false,
    "pycharm": {
     "name": "#%%\n"
    }
   }
  }
 ],
 "metadata": {
  "kernelspec": {
   "display_name": "Python 3",
   "language": "python",
   "name": "python3"
  },
  "language_info": {
   "codemirror_mode": {
    "name": "ipython",
    "version": 2
   },
   "file_extension": ".py",
   "mimetype": "text/x-python",
   "name": "python",
   "nbconvert_exporter": "python",
   "pygments_lexer": "ipython2",
   "version": "2.7.6"
  }
 },
 "nbformat": 4,
 "nbformat_minor": 0
}