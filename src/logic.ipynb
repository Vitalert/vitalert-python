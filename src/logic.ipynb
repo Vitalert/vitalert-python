{
 "cells": [
  {
   "cell_type": "code",
   "execution_count": 1,
   "metadata": {
    "collapsed": true
   },
   "outputs": [
    {
     "name": "stdout",
     "output_type": "stream",
     "text": [
      "Getting cookies from https://www.vinted.fr\n",
      "Cookies set!\n"
     ]
    }
   ],
   "source": [
    "import time\n",
    "\n",
    "from vitalert import Vitalert\n",
    "from pyVinted import Vinted\n",
    "vinted = Vinted()\n",
    "vitalert = Vitalert()"
   ]
  },
  {
   "cell_type": "code",
   "execution_count": 2,
   "outputs": [],
   "source": [
    "def getUsers():\n",
    "    '''retrieve all users from vitalert'''\n",
    "    pro_users = vitalert.users.getProUsers()\n",
    "    premium_users = vitalert.users.getPremiumUsers()\n",
    "    basic_users = vitalert.users.getBasicUsers()\n",
    "\n",
    "    return pro_users + premium_users + basic_users"
   ],
   "metadata": {
    "collapsed": false,
    "pycharm": {
     "name": "#%%\n"
    }
   }
  },
  {
   "cell_type": "code",
   "execution_count": 3,
   "outputs": [],
   "source": [
    "def handle_alert(alert, user):\n",
    "\n",
    "    # retrive last items from Vinted for the specific alert url\n",
    "    items = vinted.items.search(alert.url,20)\n",
    "\n",
    "    newItems = []\n",
    "    newIds = []\n",
    "    changed = False\n",
    "\n",
    "    if alert.lastItems != [] and alert.lastItems != None:\n",
    "        newIds = alert.lastItems\n",
    "\n",
    "        for item in items:\n",
    "            if item.id not in alert.lastItems and item.isNewItem():\n",
    "                print(item.url)\n",
    "                newItems.append(item)\n",
    "                newIds.insert(0, str(item.id))\n",
    "                newIds.pop()\n",
    "                changed = True\n",
    "\n",
    "    else:\n",
    "        changed = True\n",
    "\n",
    "        for item in items:\n",
    "            newIds.append(item.id)\n",
    "\n",
    "    if changed:\n",
    "\n",
    "        alert.update_last_items(newIds)\n",
    "\n",
    "        if user.useTelegram :\n",
    "            vitalert.notifier.sendTelegram(newItems, user)\n",
    "\n",
    "        elif not(user.useTelegram) :\n",
    "            print(\"DISCOOORD\")\n",
    "            vitalert.notifier.sendDiscord(newItems, user)\n"
   ],
   "metadata": {
    "collapsed": false,
    "pycharm": {
     "name": "#%%\n"
    }
   }
  },
  {
   "cell_type": "code",
   "execution_count": 3,
   "outputs": [],
   "source": [],
   "metadata": {
    "collapsed": false,
    "pycharm": {
     "name": "#%%\n"
    }
   }
  },
  {
   "cell_type": "code",
   "execution_count": null,
   "outputs": [
    {
     "name": "stdout",
     "output_type": "stream",
     "text": [
      "[<vitalert.users.user.User object at 0x106677f70>, <vitalert.users.user.User object at 0x106677760>, <vitalert.users.user.User object at 0x105a86250>]\n",
      "DISCOOORD\n",
      "DISCOOORD\n",
      "DISCOOORD\n",
      "https://www.vinted.fr/men/clothes/jumpers-and-sweaters/zip-through-hoodies/1638859309-gilet-nike\n",
      "[<vitalert.users.user.User object at 0x106733f70>, <vitalert.users.user.User object at 0x105a32460>, <vitalert.users.user.User object at 0x1066e42e0>]\n",
      "https://www.vinted.fr/men/clothes/jumpers-and-sweaters-1811/1638859495-pullover-polo-ralph-lauren\n",
      "DISCOOORD\n",
      "https://www.vinted.fr/men/clothes/jumpers-and-sweaters-1811/1638859495-pullover-polo-ralph-lauren\n",
      "[<vitalert.users.user.User object at 0x106677f70>, <vitalert.users.user.User object at 0x106733a90>, <vitalert.users.user.User object at 0x106733b20>]\n",
      "https://www.vinted.fr/men/clothes/tops-and-t-shirts/t-shirts/print-t-shirts/1638860416-t-shirt-habille-nike\n",
      "https://www.vinted.fr/women/clothes/activewear/trousers/1638859291-legging-nike-neuf-s\n",
      "DISCOOORD\n",
      "[<vitalert.users.user.User object at 0x105a32f70>, <vitalert.users.user.User object at 0x106733a00>, <vitalert.users.user.User object at 0x105a86250>]\n",
      "[<vitalert.users.user.User object at 0x106745070>, <vitalert.users.user.User object at 0x106745220>, <vitalert.users.user.User object at 0x10674ef40>]\n",
      "[<vitalert.users.user.User object at 0x105a48700>, <vitalert.users.user.User object at 0x106745f40>, <vitalert.users.user.User object at 0x1066e4a60>]\n",
      "[<vitalert.users.user.User object at 0x105a488b0>, <vitalert.users.user.User object at 0x106677a30>, <vitalert.users.user.User object at 0x1067452b0>]\n",
      "[<vitalert.users.user.User object at 0x106733f70>, <vitalert.users.user.User object at 0x105a32460>, <vitalert.users.user.User object at 0x106745cd0>]\n",
      "[<vitalert.users.user.User object at 0x1067456d0>, <vitalert.users.user.User object at 0x10539a430>, <vitalert.users.user.User object at 0x106677c10>]\n",
      "https://www.vinted.fr/women/clothes/activewear/tops-and-t-shirts/1638863338-tee-short-manches-longues-nike-pro\n",
      "DISCOOORD\n",
      "[<vitalert.users.user.User object at 0x105a483a0>, <vitalert.users.user.User object at 0x10674e460>, <vitalert.users.user.User object at 0x106745760>]\n",
      "[<vitalert.users.user.User object at 0x105a86250>, <vitalert.users.user.User object at 0x106733af0>, <vitalert.users.user.User object at 0x106733b50>]\n",
      "[<vitalert.users.user.User object at 0x1066f7f10>, <vitalert.users.user.User object at 0x106733ac0>, <vitalert.users.user.User object at 0x10674eb20>]\n",
      "[<vitalert.users.user.User object at 0x105a483a0>, <vitalert.users.user.User object at 0x106733a00>, <vitalert.users.user.User object at 0x106745ca0>]\n",
      "[<vitalert.users.user.User object at 0x1066e4a60>, <vitalert.users.user.User object at 0x106745160>, <vitalert.users.user.User object at 0x106677a60>]\n",
      "[<vitalert.users.user.User object at 0x106745ca0>, <vitalert.users.user.User object at 0x1067458b0>, <vitalert.users.user.User object at 0x10674ebe0>]\n",
      "[<vitalert.users.user.User object at 0x1066f7f10>, <vitalert.users.user.User object at 0x106745250>, <vitalert.users.user.User object at 0x10674ea60>]\n",
      "[<vitalert.users.user.User object at 0x105a48700>, <vitalert.users.user.User object at 0x106733250>, <vitalert.users.user.User object at 0x10674e3d0>]\n",
      "[<vitalert.users.user.User object at 0x106733af0>, <vitalert.users.user.User object at 0x105a488b0>, <vitalert.users.user.User object at 0x106677f70>]\n",
      "[<vitalert.users.user.User object at 0x106677c10>, <vitalert.users.user.User object at 0x105a483a0>, <vitalert.users.user.User object at 0x106733a90>]\n",
      "[<vitalert.users.user.User object at 0x105a48a00>, <vitalert.users.user.User object at 0x106745070>, <vitalert.users.user.User object at 0x106745910>]\n",
      "https://www.vinted.fr/women/clothes/jumpers-and-sweaters/hoodies-and-sweatshirts/1638864210-camisola-nike\n",
      "DISCOOORD\n",
      "[<vitalert.users.user.User object at 0x106677f70>, <vitalert.users.user.User object at 0x106733a00>, <vitalert.users.user.User object at 0x10674ef10>]\n",
      "https://www.vinted.fr/men/clothes/jumpers-and-sweaters/zip-through-hoodies/1638865254-sudadera-nike\n",
      "DISCOOORD\n",
      "[<vitalert.users.user.User object at 0x1066776a0>, <vitalert.users.user.User object at 0x106677a30>, <vitalert.users.user.User object at 0x106745910>]\n",
      "https://www.vinted.fr/men/clothes/jumpers-and-sweaters/zip-through-hoodies/1638865254-sudadera-nike\n",
      "DISCOOORD\n",
      "[<vitalert.users.user.User object at 0x106745d00>, <vitalert.users.user.User object at 0x106677c10>, <vitalert.users.user.User object at 0x10539a430>]\n",
      "https://www.vinted.fr/men/clothes/jumpers-and-sweaters/zip-through-hoodies/1638865254-sudadera-nike\n",
      "DISCOOORD\n",
      "https://www.vinted.fr/men/clothes/activewear/tops-and-t-shirts/1638865055-maillot-inter-de-milan\n",
      "DISCOOORD\n",
      "[<vitalert.users.user.User object at 0x105a32f70>, <vitalert.users.user.User object at 0x105a488b0>, <vitalert.users.user.User object at 0x10572c850>]\n",
      "[<vitalert.users.user.User object at 0x106745100>, <vitalert.users.user.User object at 0x106677a30>, <vitalert.users.user.User object at 0x106745cd0>]\n",
      "https://www.vinted.fr/men/clothes/activewear/tops-and-t-shirts/1638868129-camiseta-nike-running\n",
      "DISCOOORD\n",
      "[<vitalert.users.user.User object at 0x105ab7b80>, <vitalert.users.user.User object at 0x1067337c0>, <vitalert.users.user.User object at 0x1066f7f10>]\n",
      "[<vitalert.users.user.User object at 0x105a483a0>, <vitalert.users.user.User object at 0x10674e730>, <vitalert.users.user.User object at 0x106745280>]\n",
      "[<vitalert.users.user.User object at 0x1066e4a60>, <vitalert.users.user.User object at 0x1066e42e0>, <vitalert.users.user.User object at 0x10674e370>]\n",
      "[<vitalert.users.user.User object at 0x106654e20>, <vitalert.users.user.User object at 0x105764400>, <vitalert.users.user.User object at 0x1052fad00>]\n",
      "[<vitalert.users.user.User object at 0x1066f7f10>, <vitalert.users.user.User object at 0x1066e4a60>, <vitalert.users.user.User object at 0x106733880>]\n",
      "[<vitalert.users.user.User object at 0x106733a30>, <vitalert.users.user.User object at 0x10574e700>, <vitalert.users.user.User object at 0x105a32730>]\n"
     ]
    }
   ],
   "source": [
    "\n",
    "\n",
    "while True:\n",
    "    users = getUsers()\n",
    "    print(users)\n",
    "    for user in users:\n",
    "        user.getAlerts()\n",
    "        id = user.userId\n",
    "        for alert in user.alerts.alerts:\n",
    "            handle_alert(alert, user)\n",
    "    time.sleep(1)"
   ],
   "metadata": {
    "collapsed": false,
    "pycharm": {
     "name": "#%%\n",
     "is_executing": true
    }
   }
  },
  {
   "cell_type": "code",
   "execution_count": null,
   "outputs": [],
   "source": [
    "user = users[0]"
   ],
   "metadata": {
    "collapsed": false,
    "pycharm": {
     "name": "#%%\n"
    }
   }
  },
  {
   "cell_type": "code",
   "execution_count": null,
   "outputs": [],
   "source": [
    "user.getAlerts()\n"
   ],
   "metadata": {
    "collapsed": false,
    "pycharm": {
     "name": "#%%\n"
    }
   }
  },
  {
   "cell_type": "code",
   "execution_count": null,
   "outputs": [],
   "source": [
    "users = getUsers()"
   ],
   "metadata": {
    "collapsed": false,
    "pycharm": {
     "name": "#%%\n"
    }
   }
  },
  {
   "cell_type": "code",
   "execution_count": null,
   "outputs": [],
   "source": [
    "users"
   ],
   "metadata": {
    "collapsed": false,
    "pycharm": {
     "name": "#%%\n"
    }
   }
  },
  {
   "cell_type": "markdown",
   "source": [],
   "metadata": {
    "collapsed": false
   }
  },
  {
   "cell_type": "code",
   "execution_count": null,
   "outputs": [],
   "source": [],
   "metadata": {
    "collapsed": false,
    "pycharm": {
     "name": "#%%\n"
    }
   }
  }
 ],
 "metadata": {
  "kernelspec": {
   "display_name": "Python 3",
   "language": "python",
   "name": "python3"
  },
  "language_info": {
   "codemirror_mode": {
    "name": "ipython",
    "version": 2
   },
   "file_extension": ".py",
   "mimetype": "text/x-python",
   "name": "python",
   "nbconvert_exporter": "python",
   "pygments_lexer": "ipython2",
   "version": "2.7.6"
  }
 },
 "nbformat": 4,
 "nbformat_minor": 0
}